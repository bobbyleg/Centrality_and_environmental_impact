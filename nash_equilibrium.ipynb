{
 "cells": [
  {
   "cell_type": "code",
   "execution_count": 2,
   "metadata": {},
   "outputs": [],
   "source": [
    "import numpy as np"
   ]
  },
  {
   "attachments": {},
   "cell_type": "markdown",
   "metadata": {},
   "source": [
    "## Nash equilibrium code"
   ]
  },
  {
   "cell_type": "code",
   "execution_count": 1,
   "metadata": {},
   "outputs": [],
   "source": [
    "def nash_eq(d0, a1l, a1h, a2l, a2h, a3l, a3h, e, p, disc, n, T):    \n",
    "    def previous_n(n, z, e): \n",
    "        n_prev = (n - e * z) / (1 - e)\n",
    "        if n_prev < 0:\n",
    "            return 0\n",
    "        elif n_prev > 1:\n",
    "            return 1\n",
    "        else:\n",
    "            return n_prev\n",
    "\n",
    "    def sum_constants_fun(e, disc, p, T):\n",
    "        num_periods = np.max([T, 50]) # use 50 generations to approximate infinity if T < 50\n",
    "        values = np.ones(num_periods)\n",
    "        for i in range(1, num_periods+1):\n",
    "            # values[i-1] = (1 - e) ** i * e / (1 + disc * i)       # --> hyperbolic discounting\n",
    "            values[i-1] = (1 - e) ** (i - 1) * e * disc ** i / p    # --> exponential discounting\n",
    "        return values\n",
    "\n",
    "    def z_bestresponse_fun(d0, a1l, a1h, a2l, a2h, a3l, a3h, p, sum_constants, n, z_known, z_longrun):\n",
    "        num_periods = len(sum_constants)\n",
    "        z_filtered = z_known[p-2:][::p]\n",
    "        num_remaining = num_periods - len(z_filtered)\n",
    "        all_z = np.append(z_filtered, np.ones(num_remaining) * z_longrun)\n",
    "        weighted_coefficients = np.ones(num_periods) * a2h - np.ones(num_periods) * (a2h-a2l + a3h * (p-1)/p -a3l/p) * all_z - all_z * all_z * (a3h-a3l) * (p-1)/p \n",
    "        c = np.sum(sum_constants * weighted_coefficients)\n",
    "        term = d0 + (a2h-a2l) * n - a1l/p - a3l * n / p - c \n",
    "        z = -term * p / ((p - 1) * (a1h - a1l + (a3h - a3l) * n)) \n",
    "        return np.clip(z, 0, 1)\n",
    "\n",
    "    def z_longrun_fun(d0, a1l, a1h, a2l, a2h, a3l, a3h, p, sum_constants_inf):\n",
    "        if a3l == a3h:\n",
    "            num = a1l / p + a2h * sum_constants_inf - d0\n",
    "            den = (1 + sum_constants_inf) * (a2h - a2l - a3l/p) + (a1h - a1l) * (p - 1) / p + a3h * (p-1)/p * sum_constants_inf + 1e-7\n",
    "            zlr = np.array([num/den, num/den])\n",
    "        else:\n",
    "            b1 = -(1+sum_constants_inf) * (p * (a2h-a2l) - a3l) - sum_constants_inf * a3h * (p-1) - (a1h-a1l) * (p-1)\n",
    "            b2 = 4 * (1+sum_constants_inf) * (p-1) * (a3h-a3l) * (d0 + sum_constants_inf * a2h - a1l/p)\n",
    "            b3 = 2 * (1+sum_constants_inf) * (p-1) * (a3h-a3l) + 1e-7\n",
    "            zlr = np.array([(b1 + np.sqrt(np.max([b1 ** 2 - p * b2,0]))) / b3, (b1 - np.sqrt(np.max([b1 ** 2 - p * b2,0]))) / b3])\n",
    "        return np.clip(zlr, 0 ,1)\n",
    "    \n",
    "    def nash_path(z_longrun, d0, a1l, a1h, a2l, a2h, a3l, a3h, p, sum_constants):\n",
    "        n = np.array([z_longrun])\n",
    "        z = np.array([z_longrun])\n",
    "\n",
    "        t = 0\n",
    "        while (z[0] > 0) and (t < T*p):\n",
    "            if t < p: \n",
    "                z = np.append(z_bestresponse_fun(d0, a1l, a1h, a2l, a2h, a3l, a3h, p, sum_constants, n[0]+1e-7, z[:-1], z_longrun), z)\n",
    "            else:\n",
    "                z = np.append(z_bestresponse_fun(d0, a1l, a1h, a2l, a2h, a3l, a3h, p, sum_constants, n[0], z[:-1], z_longrun), z)\n",
    "            n = np.append(previous_n(n[0], z[0], e/p), n)\n",
    "            t += 1\n",
    "\n",
    "        while (n[0] < 1) and (t < T*p):\n",
    "            z = np.append(0, z)\n",
    "            n = np.append(previous_n(n[0], 0, e/p), n)\n",
    "            t += 1\n",
    "\n",
    "        diff = T*p-t\n",
    "        if diff > 0:\n",
    "            n = np.append(n, np.ones(diff) * z_longrun)\n",
    "            z = np.append(z, np.ones(diff) * z_longrun)\n",
    "        return n, z\n",
    "\n",
    "    sum_constants = sum_constants_fun(e, disc, p, T)\n",
    "    sum_constants_inf = np.sum(sum_constants)\n",
    "    z_longrun1, z_longrun2 = z_longrun_fun(d0, a1l, a1h, a2l, a2h, a3l, a3h, p, sum_constants_inf) \n",
    "    #n1, z1 = nash_path(z_longrun1, d0, a1l, a1h, a2l, a2h, a3l, a3h, p, sum_constants)\n",
    "    #n2, z2 = nash_path(z_longrun2, d0, a1l, a1h, a2l, a2h, a3l, a3h, p, sum_constants)\n",
    "\n",
    "    return z_longrun1 * np.ones(T*p+1), z_longrun1 * np.ones(T*p+1), z_longrun2 * np.ones(T*p+1), z_longrun2 * np.ones(T*p+1) #n1, z1, n2, z2"
   ]
  },
  {
   "attachments": {},
   "cell_type": "markdown",
   "metadata": {},
   "source": [
    "#### Avergage (over time) KL-divergence"
   ]
  },
  {
   "cell_type": "code",
   "execution_count": null,
   "metadata": {},
   "outputs": [],
   "source": [
    "def jensen_shannon_divergence(me, ne):\n",
    "    M = [(me + ne) / 2 + 1e-7, (2 - me - ne) / 2 + 1e-7] \n",
    "    element1 = me * np.log(me/M[0]+1e-7) + ne * np.log(ne/M[0]+1e-7)\n",
    "    element2 = (1-me) * np.log((1-me)/M[1]+1e-7) + (1-ne) * np.log((1-ne)/M[1]+1e-7)\n",
    "    return (element1 + element2) / 2\n",
    "\n",
    "def ave_kl(zl_evolution, ne_evolution):\n",
    "    sum = 0\n",
    "    for i in range(len(zl_evolution)):\n",
    "        sum += jensen_shannon_divergence(zl_evolution[i], ne_evolution[i])\n",
    "    return (-1/len(zl_evolution) * sum) #'%.04f' % (-1/len(zl_evolution) * sum)"
   ]
  }
 ],
 "metadata": {
  "kernelspec": {
   "display_name": "Python 3",
   "language": "python",
   "name": "python3"
  },
  "language_info": {
   "codemirror_mode": {
    "name": "ipython",
    "version": 3
   },
   "file_extension": ".py",
   "mimetype": "text/x-python",
   "name": "python",
   "nbconvert_exporter": "python",
   "pygments_lexer": "ipython3",
   "version": "3.9.7"
  },
  "orig_nbformat": 4,
  "vscode": {
   "interpreter": {
    "hash": "7812ea015bdcee6f23a998adcdd2ef97c151c0c241b7b7070987d9313e41299d"
   }
  }
 },
 "nbformat": 4,
 "nbformat_minor": 2
}
