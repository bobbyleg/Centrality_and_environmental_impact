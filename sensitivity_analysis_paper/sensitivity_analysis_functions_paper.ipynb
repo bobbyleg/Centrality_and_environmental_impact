{
 "cells": [
  {
   "cell_type": "code",
   "execution_count": 1,
   "metadata": {},
   "outputs": [],
   "source": [
    "from SALib.sample import saltelli\n",
    "from SALib.sample import sobol_sequence \n",
    "from SALib import ProblemSpec\n",
    "from SALib.analyze import sobol\n",
    "\n",
    "import numpy as np\n",
    "import matplotlib.pyplot as plt \n",
    "import pandas as pd\n",
    "from tqdm import tqdm\n",
    "import diptest "
   ]
  },
  {
   "attachments": {},
   "cell_type": "markdown",
   "metadata": {},
   "source": [
    "## Sensitivity analysis functions"
   ]
  },
  {
   "attachments": {},
   "cell_type": "markdown",
   "metadata": {},
   "source": [
    "#### Generating problem specification and samples"
   ]
  },
  {
   "cell_type": "code",
   "execution_count": 2,
   "metadata": {},
   "outputs": [],
   "source": [
    "def sp_and_samples(names, bounds, dists, outputs, int_list, N):\n",
    "       sp = ProblemSpec({\n",
    "              \"names\": names,\n",
    "              \"groups\": None,\n",
    "              \"bounds\": bounds,           \n",
    "              \"dists\": dists,  \n",
    "              \"outputs\": outputs,\n",
    "              })\n",
    "\n",
    "       sp.sample_sobol(N, calc_second_order=True)\n",
    "       X = sp.samples\n",
    "       n_samples = np.shape(X)[0]\n",
    "\n",
    "       # ne must be an integer value\n",
    "       sample_dict = {i:(X[:,id] if int_list[id] == 0 else (np.rint(X[:,id])).astype(int)) for id, i in enumerate(names)}\n",
    "\n",
    "       # find duplicates in the sample space to speed up the process\n",
    "       u, c = np.unique(X, return_counts=True, axis=0)\n",
    "       dup = u[c > 1]\n",
    "       dup_dict = {str([j for j in dup[i,:]]):[0,0,0,0] for i in range(np.shape(dup)[0])}\n",
    "\n",
    "       return sp, n_samples, sample_dict, dup_dict"
   ]
  },
  {
   "attachments": {},
   "cell_type": "markdown",
   "metadata": {},
   "source": [
    "#### Running the model"
   ]
  },
  {
   "cell_type": "code",
   "execution_count": 1,
   "metadata": {},
   "outputs": [],
   "source": [
    "def SA_results(sample_dict, n_samples, dup_dict, x, n, z, P, ne, d, T, e1, d0, \n",
    "               impact, sigma, b1, b2, b3, h_upd_chance, eta, choice_intensity, a1l=2, a1h=2, a2l=2, a2h=2, a3l=2, a3h=2):\n",
    "    results = np.zeros((n_samples, 2)) # 2 for system rationality and bimodality\n",
    "\n",
    "    def SA_run_sample(x, n, z, P, ne, d, T, e1, d0, a1l, a1h, a2l, a2h, a3l, a3h, impact, sigma, b1, b2, b3, h_upd_chance, eta, choice_intensity):\n",
    "        env_results = np.zeros(x)\n",
    "        sys_rat_results = np.zeros(x)\n",
    "        nash_env1, nash_zl1, nash_env2, nash_zl2 = nash_eq(d0, a1l, a1h, a2l, a2h, a3l, a3h, e1, P, d, n, T)\n",
    "\n",
    "        for i in range(x):\n",
    "            n_evolution, z_evolution, zl_predictions, pd, heuristic_fraction, observed_z, acting_p, degrees, skew \\\n",
    "                = model(n, z, P, ne, T, e1, d0, a1l, a1h, a2l, a2h, a3l, a3h, impact, sigma, b1, b2, b3, h_upd_chance, eta, choice_intensity)\n",
    "            env_results[i] = n_evolution[-1] # use the final period to calculate Dip test statistic \n",
    "            sys_rat_results[i] = np.max([float(ave_kl(z_evolution, nash_zl1)), float(ave_kl(z_evolution, nash_zl2))])\n",
    "        sys_rat = np.mean(sys_rat_results) \n",
    "        dip, pval = diptest.diptest(env_results) # use p-value for bimodality\n",
    "                        \n",
    "        return sys_rat, pval\n",
    "\n",
    "    for i in tqdm(range(n_samples)):\n",
    "        values = [sample_dict[j][i] for j in sample_dict.keys()]\n",
    "        [d0, a1d, a2d, a3d, ne, impact] = values\n",
    "        a1h, a2h, a3h = (a1l + a1d, a2l + a2d, a3l + a3d)\n",
    "        key = str([j for j in values])\n",
    "        if key in dup_dict.keys():\n",
    "            if dup_dict[key][0] > 0:\n",
    "                results[i,:] = dup_dict[key][1:]\n",
    "            else: \n",
    "                sys_rat, bimodality = SA_run_sample(x, n, z, P, ne, d, T, e1, d0, a1l, a1h, a2l, a2h, a3l, a3h, \n",
    "                                                                         impact, sigma, b1, b2, b3, h_upd_chance, eta, choice_intensity)\n",
    "                results[i,:] = [sys_rat, bimodality]\n",
    "                dup_dict[key][1:] = [sys_rat, bimodality]\n",
    "            dup_dict[key][0] += 1\n",
    "        else: \n",
    "            sys_rat, bimodality = SA_run_sample(x, n, z, P, ne, d, T, e1, d0, a1l, a1h, a2l, a2h, a3l, a3h, \n",
    "                                                                     impact, sigma, b1, b2, b3, h_upd_chance, eta, choice_intensity)\n",
    "            results[i,:] = [sys_rat, bimodality]\n",
    "\n",
    "    return results "
   ]
  },
  {
   "attachments": {},
   "cell_type": "markdown",
   "metadata": {},
   "source": [
    "#### Plot results"
   ]
  },
  {
   "cell_type": "code",
   "execution_count": null,
   "metadata": {},
   "outputs": [],
   "source": [
    "def plot_sa_results(sp):\n",
    "    # organizing the sensitivity indices\n",
    "    num_vars = sp['num_vars']\n",
    "    num_outputs = len(sp['outputs'])\n",
    "    S = np.zeros((2, num_outputs, 2, num_vars))   # 2 first because of ST S1; 2 second because one for estimate and one for confidence interval\n",
    "\n",
    "    for id, x in enumerate(sp['outputs']):\n",
    "        S[0,id,:,:] = [sp.analysis[x]['ST'], sp.analysis[x]['ST_conf']]\n",
    "        S[1,id,:,:] = [sp.analysis[x]['S1'], sp.analysis[x]['S1_conf']]\n",
    "    \n",
    "    def plotting(ST_row, S1_row, num_vars):\n",
    "        y = np.arange(1, num_vars*3, 3)\n",
    "        \n",
    "        def per_order(y, S_row, color):\n",
    "            ub = S_row[0,:] + S_row[1,:]\n",
    "            lb = S_row[0,:] - S_row[1,:]\n",
    "            if color == 'red':\n",
    "                plt.scatter(y, S_row[0,:], c=color, label='ST') \n",
    "            else:\n",
    "                plt.scatter(y, S_row[0,:], c=color, label='S1') \n",
    "            for id, x in enumerate(y):\n",
    "                plt.plot([x, x], [lb[id], ub[id]], color='black', linestyle='dashed')\n",
    "        per_order(y-1, ST_row, 'red')\n",
    "        per_order(y, S1_row, 'blue')\n",
    "        plt.grid()\n",
    "        plt.legend(fontsize=20)\n",
    "        plt.xticks(y-0.5, [r'$\\alpha$', r'$\\gamma_{1}^{d}$', r'$\\gamma_{2}^{d}$', r'$\\gamma_{3}^{d}$', r'$\\lambda$', r'$\\nu$'], fontsize=20)\n",
    "        plt.yticks(fontsize=20)\n",
    "\n",
    "    # plotting the sensitivity indices\n",
    "    fig = plt.figure(figsize=(20, 8)) #20,8\n",
    "    rows = 1\n",
    "    columns = num_outputs\n",
    "    count = 1\n",
    "\n",
    "    for id, i in enumerate(['System rationality', 'Bimodality']):\n",
    "        fig.add_subplot(rows, columns, count)\n",
    "        plotting(S[0,id,:,:], S[1,id,:,:], num_vars)\n",
    "        plt.ylabel(f'{i}', fontsize=20)\n",
    "        count += 1\n",
    "    \n",
    "    plt.tight_layout()\n",
    "    plt.savefig('sensitivity_analysis_paper/plots/SA_plot.png', dpi=300)\n",
    "    plt.show()"
   ]
  }
 ],
 "metadata": {
  "kernelspec": {
   "display_name": "base",
   "language": "python",
   "name": "python3"
  },
  "language_info": {
   "codemirror_mode": {
    "name": "ipython",
    "version": 3
   },
   "file_extension": ".py",
   "mimetype": "text/x-python",
   "name": "python",
   "nbconvert_exporter": "python",
   "pygments_lexer": "ipython3",
   "version": "3.11.5"
  },
  "orig_nbformat": 4,
  "vscode": {
   "interpreter": {
    "hash": "c54ba8db2dd891969889889b1031393617c880a90727e9ce78349a85143ec61f"
   }
  }
 },
 "nbformat": 4,
 "nbformat_minor": 2
}
