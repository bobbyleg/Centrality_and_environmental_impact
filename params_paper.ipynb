{
 "cells": [
  {
   "attachments": {},
   "cell_type": "markdown",
   "metadata": {},
   "source": [
    "## Parameter values"
   ]
  },
  {
   "cell_type": "code",
   "execution_count": 2,
   "metadata": {},
   "outputs": [],
   "source": [
    "# model \n",
    "n = 1.0                 # initial state environment (1 is best state, 0 the worst)\n",
    "z = 1.0                 # initial state z (1 leads best environmental state, 0 to the worst)\n",
    "P = 1000                # number of players\n",
    "T = 40                  # number of periods\n",
    "e1 = 0.25               # time dynamics environment\n",
    "x = 100                 # number of simulations"
   ]
  },
  {
   "cell_type": "code",
   "execution_count": 6,
   "metadata": {},
   "outputs": [],
   "source": [
    "# payoffs\n",
    "d0 = -0.3                # payoff difference when n and zl are zero \n",
    "a1l = 2 * e1             # determines how payoffs depend on zt of L action\n",
    "a2l = 2 * (1 - e1)       # determines how payoffs depend on nt-1 of L action\n",
    "a1h = 3 * e1             # determines how payoffs depend on zt of H action\n",
    "a2h = 3 * (1 - e1)       # determines how payoffs depend on nt-1 of H action\n",
    "a3l = 0 #1 * e1          # determines how payoffs depend on interaction zt and nt-1 of L action\n",
    "a3h = 0 #1.4 * e1        # determines how payoffs depend on interaction zt and nt-1 of H action"
   ]
  },
  {
   "cell_type": "code",
   "execution_count": null,
   "metadata": {},
   "outputs": [],
   "source": [
    "# heuristics switching model\n",
    "h_upd_chance = 0.9      # Hommes (2013) --> Colasante et al. (2020)\n",
    "eta = 0.7               # 0.7 Colasante et al. (2020)\n",
    "choice_intensity = 100  # 0.4 according to Colasante et al. (2020)\n",
    "b1 = 0.65               # parameter adaptive expectations; 0.65 according to hommes et al. (2013?); 0.63 according to colasante et al. (2020)\n",
    "b2 = 0.44               # parameter trend-chasing expectations; 0.3 according to evans et al. (2019); 0.44 according to colasante et al. (2020)\n",
    "b3 = -0.44              # parameter contrarian-chasing expectations; 0.44 according to colasante et al. (2020)"
   ]
  },
  {
   "cell_type": "code",
   "execution_count": null,
   "metadata": {},
   "outputs": [],
   "source": [
    "# network\n",
    "ne = 250                # new edges in the Barabasi-Albert network; when float fraction of links present in random network\n",
    "impact = 0              # inequality of impact\n",
    "sigma = 0.1             # represents uncertainty of information quality in decision-making"
   ]
  },
  {
   "cell_type": "code",
   "execution_count": null,
   "metadata": {},
   "outputs": [],
   "source": [
    "# sensitivity analysis\n",
    "N = 1024                # number of SA samples\n",
    "x_SA = 30               # number simulations per sample for SA"
   ]
  }
 ],
 "metadata": {
  "kernelspec": {
   "display_name": "Python 3",
   "language": "python",
   "name": "python3"
  },
  "language_info": {
   "codemirror_mode": {
    "name": "ipython",
    "version": 3
   },
   "file_extension": ".py",
   "mimetype": "text/x-python",
   "name": "python",
   "nbconvert_exporter": "python",
   "pygments_lexer": "ipython3",
   "version": "3.9.7"
  },
  "orig_nbformat": 4,
  "vscode": {
   "interpreter": {
    "hash": "7812ea015bdcee6f23a998adcdd2ef97c151c0c241b7b7070987d9313e41299d"
   }
  }
 },
 "nbformat": 4,
 "nbformat_minor": 2
}
